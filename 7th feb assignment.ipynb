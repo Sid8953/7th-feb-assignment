{
 "cells": [
  {
   "cell_type": "code",
   "execution_count": 1,
   "id": "e2358567-9496-4ab9-9098-932f37d98528",
   "metadata": {},
   "outputs": [
    {
     "data": {
      "text/plain": [
       "'Valid Password'"
      ]
     },
     "execution_count": 1,
     "metadata": {},
     "output_type": "execute_result"
    }
   ],
   "source": [
    "# ans 1 \n",
    "from string import punctuation\n",
    "def checkPass(password):\n",
    "    uppercase = 0\n",
    "    lowercase = 0\n",
    "    special_char = 0\n",
    "    number = 0\n",
    "    valid = False\n",
    "    if len(password)>=10:\n",
    "        for i in password:\n",
    "            if i.isupper():\n",
    "                uppercase+=1\n",
    "            if i.islower():\n",
    "                lowercase+=1\n",
    "            if i in punctuation:\n",
    "                special_char+=1\n",
    "            if i.isnumeric():\n",
    "                number+=1\n",
    "        if uppercase>=2 and lowercase>=2 and special_char>=3 and number>=1:\n",
    "            valid=True\n",
    "    else:\n",
    "        valid= False\n",
    "    if valid:\n",
    "        return \"Valid Password\"\n",
    "    else:\n",
    "        return \"Invalid Password\"\n",
    "checkPass(\"$ThisIsSecret$123@\")"
   ]
  },
  {
   "cell_type": "code",
   "execution_count": 2,
   "id": "0860eff3-e56a-48df-a7fa-aa3f10515fb5",
   "metadata": {},
   "outputs": [
    {
     "data": {
      "text/plain": [
       "True"
      ]
     },
     "execution_count": 2,
     "metadata": {},
     "output_type": "execute_result"
    }
   ],
   "source": [
    "# ans 2\n",
    "#Check if the string starts with a particular letter\n",
    "def check_string_start(string, start_letter):\n",
    "    return True if string[0] == start_letter else False\n",
    "\n",
    "# Using Lambda function\n",
    "check_string_start_lambda = lambda string, start_letter: True if string[0] == start_letter else False\n",
    "check_string_start(\"Hello\", \"H\")"
   ]
  },
  {
   "cell_type": "code",
   "execution_count": 3,
   "id": "c23c068f-96a3-48e5-8b86-1f0a49fd70b1",
   "metadata": {},
   "outputs": [
    {
     "data": {
      "text/plain": [
       "True"
      ]
     },
     "execution_count": 3,
     "metadata": {},
     "output_type": "execute_result"
    }
   ],
   "source": [
    "#Check if the string is numeric\n",
    "def check_string_numeric(string):\n",
    "    return True if string.isdigit() else False\n",
    "\n",
    "# Using Lambda function\n",
    "check_string_numeric_lambda = lambda string: True if string.isdigit() else False\n",
    "check_string_numeric(\"123\")"
   ]
  },
  {
   "cell_type": "code",
   "execution_count": 4,
   "id": "e5bc6f2b-7b8a-4612-8b1d-9d6be4a0ecca",
   "metadata": {},
   "outputs": [
    {
     "name": "stdout",
     "output_type": "stream",
     "text": [
      "[('orange', 80), ('mango', 99), ('grapes', 1000)]\n",
      "[('orange', 80), ('mango', 99), ('grapes', 1000)]\n"
     ]
    }
   ],
   "source": [
    "#Sort a list of tuples having fruit names and their quantity\n",
    "fruits = [(\"mango\",99),(\"orange\",80), (\"grapes\", 1000)]\n",
    "\n",
    "# Using Lambda function\n",
    "sorted_fruits = sorted(fruits, key=lambda x: x[1])\n",
    "print(sorted_fruits)\n",
    "# Using List Comprehension\n",
    "sorted_fruits_lc = [fruit for fruit in sorted(fruits, key=lambda x: x[1])]\n",
    "print(sorted_fruits_lc)"
   ]
  },
  {
   "cell_type": "code",
   "execution_count": 5,
   "id": "77380db1-9926-4348-af85-57c8faccd991",
   "metadata": {},
   "outputs": [
    {
     "name": "stdout",
     "output_type": "stream",
     "text": [
      "[1, 4, 9, 16, 25, 36, 49, 64, 81, 100]\n",
      "[1, 4, 9, 16, 25, 36, 49, 64, 81, 100]\n"
     ]
    }
   ],
   "source": [
    "#Find the squares of numbers from 1 to 10\n",
    "# Using Map function\n",
    "squared_numbers = list(map(lambda x: x**2, range(1, 11)))\n",
    "print(squared_numbers)\n",
    "# Using List Comprehension\n",
    "squared_numbers_lc = [x**2 for x in range(1, 11)]\n",
    "print(squared_numbers_lc)"
   ]
  },
  {
   "cell_type": "code",
   "execution_count": 6,
   "id": "24e1442d-54f0-49b4-aaec-18c5110e1092",
   "metadata": {},
   "outputs": [
    {
     "name": "stdout",
     "output_type": "stream",
     "text": [
      "[1.0, 1.2599210498948732, 1.4422495703074083, 1.5874010519681994, 1.7099759466766968, 1.8171205928321397, 1.912931182772389, 2.0, 2.080083823051904, 2.154434690031884]\n",
      "[1.0, 1.2599210498948732, 1.4422495703074083, 1.5874010519681994, 1.7099759466766968, 1.8171205928321397, 1.912931182772389, 2.0, 2.080083823051904, 2.154434690031884]\n"
     ]
    }
   ],
   "source": [
    "#Find the cube root of numbers from 1 to 10\n",
    "# Using Map function\n",
    "cuberoot_numbers = list(map(lambda x: x**(1/3), range(1, 11)))\n",
    "print(cuberoot_numbers)\n",
    "# Using List Comprehension\n",
    "cuberoot_numbers_lc = [x**(1/3) for x in range(1, 11)]\n",
    "print(cuberoot_numbers_lc)"
   ]
  },
  {
   "cell_type": "code",
   "execution_count": 7,
   "id": "d370c47e-2c06-42a7-b23c-d7e100125da4",
   "metadata": {},
   "outputs": [
    {
     "name": "stdout",
     "output_type": "stream",
     "text": [
      "True\n"
     ]
    }
   ],
   "source": [
    "#Check if a given number is even\n",
    "# Using Lambda function\n",
    "is_even_lambda = lambda number: True if number % 2 == 0 else False\n",
    "print(is_even_lambda(6))"
   ]
  },
  {
   "cell_type": "code",
   "execution_count": 8,
   "id": "2b3d4437-947a-4b84-9471-8e31e0117261",
   "metadata": {},
   "outputs": [
    {
     "name": "stdout",
     "output_type": "stream",
     "text": [
      "[1, 3, 5, 7, 9]\n"
     ]
    }
   ],
   "source": [
    "#Filter odd numbers from the given list\n",
    "numbers = [1,2,3,4,5,6,7,8,9,10]\n",
    "\n",
    "# Using Filter function\n",
    "odd_numbers = list(filter(lambda x: x % 2 != 0, numbers))\n",
    "print(odd_numbers)"
   ]
  },
  {
   "cell_type": "code",
   "execution_count": 9,
   "id": "425e4411-2de2-4b18-ac9d-aa5af7030d32",
   "metadata": {},
   "outputs": [
    {
     "name": "stdout",
     "output_type": "stream",
     "text": [
      "[1, 2, 3, 4, 5, 6]\n",
      "[-1, -2, -3, -4, -5]\n"
     ]
    }
   ],
   "source": [
    "#Sort a list of integers into positive and negative integers lists\n",
    "numbers = [1,2,3,4,5,6,-1,-2,-3,-4,-5,0]\n",
    "\n",
    "# Using List Comprehension\n",
    "positive_numbers = [x for x in numbers if x > 0]\n",
    "negative_numbers = [x for x in numbers if x < 0]\n",
    "print(positive_numbers)\n",
    "print(negative_numbers)"
   ]
  },
  {
   "cell_type": "code",
   "execution_count": null,
   "id": "e1dd431d-90c1-4b3a-b5cf-60d3eba4405f",
   "metadata": {},
   "outputs": [],
   "source": []
  }
 ],
 "metadata": {
  "kernelspec": {
   "display_name": "Python 3 (ipykernel)",
   "language": "python",
   "name": "python3"
  },
  "language_info": {
   "codemirror_mode": {
    "name": "ipython",
    "version": 3
   },
   "file_extension": ".py",
   "mimetype": "text/x-python",
   "name": "python",
   "nbconvert_exporter": "python",
   "pygments_lexer": "ipython3",
   "version": "3.10.8"
  }
 },
 "nbformat": 4,
 "nbformat_minor": 5
}
